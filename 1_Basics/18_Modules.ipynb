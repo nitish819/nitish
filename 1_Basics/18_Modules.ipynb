{
  "cells": [
    {
      "cell_type": "markdown",
      "metadata": {
        "id": "010fd941"
      },
      "source": [
        "<a target=\"_blank\" href=\"https://colab.research.google.com/github/lukebarousse/Python_Data_Analytics_Course/blob/main/1_Basics/18_Modules.ipynb\">\n",
        "  <img src=\"https://colab.research.google.com/assets/colab-badge.svg\" alt=\"Open In Colab\"/>\n",
        "</a>"
      ]
    },
    {
      "cell_type": "markdown",
      "metadata": {
        "id": "54vpIdtbxDAL"
      },
      "source": [
        "# Modules"
      ]
    },
    {
      "cell_type": "markdown",
      "metadata": {
        "id": "otPXk6HRFg-5"
      },
      "source": [
        "We'll be going over:\n",
        "- Create a module\n",
        "- Using modules"
      ]
    },
    {
      "cell_type": "markdown",
      "metadata": {
        "id": "a5cQsOwgHEjq"
      },
      "source": [
        "## What is a Module\n",
        "\n",
        "* Consider a module to be the same as a code library.\n",
        "* It's a file containing a set of functions you want to include.\n",
        "\n",
        "#### Importance\n",
        "\n",
        "Essential for accessing pandas and Matplotlib functionalities, allowing data analysis and visualization."
      ]
    },
    {
      "cell_type": "code",
      "execution_count": 1,
      "metadata": {
        "id": "tEL3XIalg_d4",
        "outputId": "7534eb8f-dcac-4e22-97e1-3187b1dbb931",
        "colab": {
          "base_uri": "https://localhost:8080/"
        }
      },
      "outputs": [
        {
          "output_type": "stream",
          "name": "stdout",
          "text": [
            "Overwriting my_module.py\n"
          ]
        }
      ],
      "source": [
        "%%writefile my_module.py\n",
        "\n",
        "skill_list = ['Python', 'SQL', 'Excel']"
      ]
    },
    {
      "cell_type": "markdown",
      "source": [],
      "metadata": {
        "id": "_3w0_BrOnVH4"
      }
    },
    {
      "cell_type": "markdown",
      "metadata": {
        "id": "yO4_ZdEsg_d5"
      },
      "source": [
        "We can import things like variables (although this is less common and more for demonstration)."
      ]
    },
    {
      "cell_type": "code",
      "execution_count": 2,
      "metadata": {
        "id": "yOCum024g_d5",
        "outputId": "da7f0b2f-5aec-4e4c-a4ff-60acee2bfc9c",
        "colab": {
          "base_uri": "https://localhost:8080/"
        }
      },
      "outputs": [
        {
          "output_type": "execute_result",
          "data": {
            "text/plain": [
              "['Python', 'SQL', 'Excel']"
            ]
          },
          "metadata": {},
          "execution_count": 2
        }
      ],
      "source": [
        "import my_module\n",
        "\n",
        "my_module.skill_list"
      ]
    },
    {
      "cell_type": "markdown",
      "metadata": {
        "id": "bc_Hq_5Bg_d5"
      },
      "source": [
        "More importantly we can import functions (and classes)."
      ]
    },
    {
      "cell_type": "code",
      "source": [
        "my_module.skill(\"Python\")"
      ],
      "metadata": {
        "id": "_uUAHE2Fn1ay",
        "outputId": "ce2f20f2-2d60-4c87-82e9-be24f0a88065",
        "colab": {
          "base_uri": "https://localhost:8080/",
          "height": 141
        }
      },
      "execution_count": 3,
      "outputs": [
        {
          "output_type": "error",
          "ename": "AttributeError",
          "evalue": "module 'my_module' has no attribute 'skill'",
          "traceback": [
            "\u001b[0;31m---------------------------------------------------------------------------\u001b[0m",
            "\u001b[0;31mAttributeError\u001b[0m                            Traceback (most recent call last)",
            "\u001b[0;32m<ipython-input-3-7322db0ef7d0>\u001b[0m in \u001b[0;36m<cell line: 0>\u001b[0;34m()\u001b[0m\n\u001b[0;32m----> 1\u001b[0;31m \u001b[0mmy_module\u001b[0m\u001b[0;34m.\u001b[0m\u001b[0mskill\u001b[0m\u001b[0;34m(\u001b[0m\u001b[0;34m\"Python\"\u001b[0m\u001b[0;34m)\u001b[0m\u001b[0;34m\u001b[0m\u001b[0;34m\u001b[0m\u001b[0m\n\u001b[0m",
            "\u001b[0;31mAttributeError\u001b[0m: module 'my_module' has no attribute 'skill'"
          ]
        }
      ]
    },
    {
      "cell_type": "code",
      "source": [
        "from job_analyzer import calculate_salary, calculate_bonus\n",
        "\n",
        "calculate_salary(100000)\n",
        "\n",
        "calculate_bonus(110000, 100000)"
      ],
      "metadata": {
        "id": "jmjczh96rd7E"
      },
      "execution_count": null,
      "outputs": []
    },
    {
      "cell_type": "code",
      "source": [],
      "metadata": {
        "id": "yq0dmoiUt3ks"
      },
      "execution_count": null,
      "outputs": []
    },
    {
      "cell_type": "code",
      "execution_count": null,
      "metadata": {
        "id": "xUcxoWLJg_d6"
      },
      "outputs": [],
      "source": [
        "%%writefile my_module2.py\n",
        "\n",
        "skill_list = ['Python', 'SQL', 'Excel']\n",
        "\n",
        "def skill(skill_name):\n",
        "    return f\"{skill_name} is my favorite skill!\""
      ]
    },
    {
      "cell_type": "code",
      "execution_count": null,
      "metadata": {
        "id": "Jiit495sg_d6"
      },
      "outputs": [],
      "source": [
        "import my_module2\n",
        "\n",
        "# Call the functions from the module\n",
        "print(my_module2.skill('Python'))"
      ]
    },
    {
      "cell_type": "markdown",
      "metadata": {
        "id": "TRfJ02wwLxnc"
      },
      "source": [
        "## Create a Module\n",
        "\n",
        "### Notes\n",
        "\n",
        "* Save the code you want in a file with the file extensions `.py`.\n",
        "* In Jupyter notebooks we are going to be doing something slightly different to save our module.\n",
        "  * This will let us save the contents of a cell as a Python script file with the `.py` extension.\n",
        "  * Why are we doing this? Because python scripts (.py files) are standalone false. But since we're using Jupyter notebooks which are organized into cells. We need to save it differently.\n",
        "  * Here's how: `%%writefile file_name.py`.\n",
        "\n",
        "### Example\n",
        "\n",
        "* We're going to save our function that weused previously. Save it as `my_module` using the following code:\n",
        "  * `%%writefile my_module.py`\n",
        "  * **Note**: Make sure this is the very first line in the Jupyter Notebook cell. You can't even have a comment or any whitespace above it.\n",
        "\n",
        "Let's use the function we created earlier that calculates total salary."
      ]
    },
    {
      "cell_type": "code",
      "execution_count": null,
      "metadata": {
        "id": "vrr89kPTLxIk"
      },
      "outputs": [],
      "source": [
        "%%writefile job_analyzer.py\n",
        "\n",
        "# Call the function from the module\n",
        "def calculate_salary(base_salary, bonus_rate=.1):\n",
        "  \"\"\"\n",
        "  Calculate the total salary based on the base salary and bonus rate.\n",
        "\n",
        "  Args:\n",
        "    base_salary (float): The base salary.\n",
        "    bonus_rate (float): The bonus rate. Default is .1.\n",
        "\n",
        "  Returns:\n",
        "    float: The total salary.\n",
        "  \"\"\"\n",
        "  return base_salary * (1 + bonus_rate)\n",
        "\n",
        "def calculate_bonus(total_salary, base_salary):\n",
        "  \"\"\"\n",
        "  Calculate the bonus rate based on the total salary and base salary.\n",
        "\n",
        "  Args:\n",
        "    total_salary (float): The total salary.\n",
        "    base_salary (float): The base salary.\n",
        "\n",
        "  Returns:\n",
        "    float: The bonus rate.\n",
        "  \"\"\"\n",
        "  return (total_salary - base_salary) / base_salary"
      ]
    },
    {
      "cell_type": "markdown",
      "metadata": {
        "id": "Hp_H0rRDaeXg"
      },
      "source": [
        "If you look in the files you can see the module you just created."
      ]
    },
    {
      "cell_type": "markdown",
      "metadata": {
        "id": "zOHN9w-BMMuT"
      },
      "source": [
        "## Accessing a Module\n",
        "\n",
        "We're going to go over two major types\n",
        "\n",
        "1. User Defined\n",
        "2. Imported Modules"
      ]
    },
    {
      "cell_type": "markdown",
      "metadata": {
        "id": "IMO88MqEg_d7"
      },
      "source": [
        "### Use Your Created Module\n",
        "\n",
        "\n",
        "#### Notes\n",
        "\n",
        "* To use a function from a module, use the syntax: `module_name.function_name`\n",
        "\n",
        "#### Example"
      ]
    },
    {
      "cell_type": "code",
      "execution_count": null,
      "metadata": {
        "id": "Vdv2lEMWHHuL"
      },
      "outputs": [],
      "source": [
        "import job_analyzer\n",
        "\n",
        "job_analyzer.calculate_salary(100000)"
      ]
    },
    {
      "cell_type": "markdown",
      "metadata": {
        "id": "7IpE_04ZLnlx"
      },
      "source": [
        "Modules can contain variables of all types like arrays, dictionaries, etc."
      ]
    },
    {
      "cell_type": "markdown",
      "metadata": {
        "id": "09irjmaHg_d7"
      },
      "source": [
        "## Python Standard Library Modules\n",
        "\n",
        "#### Notes\n",
        "\n",
        "* Python has a variety of standard modules.\n",
        "* Here are some common modules:\n",
        "    * **os**: Provides functions for interacting with the operating system, like file operations\n",
        "    * **sys**: Offers access to some variables used or maintained by the Python interpreter and to functions that interact strongly with the interpreter\n",
        "    * **math**: Contains mathematical functions such as trigonometric functions, logarithms, etc.\n",
        "    * **random**: Allows generating random numbers\n",
        "    * **datetime**: Supplies classes for manipulating dates and times\n",
        "    * **json**: Provides functions for encoding and decoding JSON data\n",
        "    * **csv**: Implements classes to read and write tabular data in CSV format\n",
        "    * **re**: Supports regular expressions for pattern matching and manipulation\n",
        "* In this course we'll be going over: `random`, `datetime` and some 3rd party libraries.\n",
        "\n",
        "#### Source code for Libraries\n",
        "\n",
        "[Python Standard Library Source Code](https://github.com/python/cpython/tree/3.12/Lib).\n"
      ]
    },
    {
      "cell_type": "markdown",
      "metadata": {
        "id": "GArcATigg_d7"
      },
      "source": [
        "#### Libraries Available"
      ]
    },
    {
      "cell_type": "code",
      "execution_count": null,
      "metadata": {
        "id": "Se95357yg_d7"
      },
      "outputs": [],
      "source": [
        "# list the python standard libraries installed\n",
        "import sys\n",
        "print(sys.builtin_module_names)"
      ]
    },
    {
      "cell_type": "markdown",
      "metadata": {
        "id": "620SzRgBg_d7"
      },
      "source": [
        "#### Example - Statistics Library\n",
        "\n",
        "We'll import the `statistics` module and use it to take the square root of 16.\n",
        "\n",
        "[Here is the source code to see the module](https://github.com/python/cpython/blob/23ba96e2433d17e86f4770a64b94aaf9ad22a25b/Lib/statistics.py#L468) (Link directs to line 468 of `mean()` function)."
      ]
    },
    {
      "cell_type": "code",
      "execution_count": null,
      "metadata": {
        "id": "g1p6qBMFg_d7"
      },
      "outputs": [],
      "source": [
        "# Importing statistics module\n",
        "import statistics\n",
        "\n",
        "salary_list = [98000, 101000, 102000, 99000, 97000]\n",
        "\n",
        "# Calculate the mean, median, and mode\n",
        "mean = statistics.mean(salary_list)\n",
        "median = statistics.median(salary_list)\n",
        "mode = statistics.mode(salary_list)\n",
        "\n",
        "# Print the mean, median, and mode\n",
        "print(f'Mean: {mean}')\n",
        "print(f'Median: {median}')\n",
        "print(f'Mode: {mode}')"
      ]
    },
    {
      "cell_type": "markdown",
      "metadata": {
        "id": "966JPqEEg_d7"
      },
      "source": [
        "## How to Import"
      ]
    },
    {
      "cell_type": "markdown",
      "metadata": {
        "id": "yO9_85Axg_d7"
      },
      "source": [
        "### `import` statement"
      ]
    },
    {
      "cell_type": "code",
      "execution_count": null,
      "metadata": {
        "id": "y0SgBuSPg_d7"
      },
      "outputs": [],
      "source": [
        "import pandas"
      ]
    },
    {
      "cell_type": "markdown",
      "metadata": {
        "id": "wGhzOrMmg_d7"
      },
      "source": [
        "### `import` with Alias\n",
        "\n",
        "We are importing a Python library called pandas and assigning it to the alias of `pd`. For libraries we assign an alias to make it quicker to type out the code. It's also standard to assign an alias."
      ]
    },
    {
      "cell_type": "code",
      "execution_count": null,
      "metadata": {
        "id": "LMbxC4JEg_d7"
      },
      "outputs": [],
      "source": [
        "import pandas as pd"
      ]
    },
    {
      "cell_type": "markdown",
      "metadata": {
        "id": "qvlzlcyug_d7"
      },
      "source": [
        "### `from` and `import` statements\n",
        "\n",
        "`from` Statement:\n",
        "- Typically used to specify the module or library from which you want to import specific functions, classes, or even other modules.\n",
        "- You can also use it to import specific attributes or objects from within a module `import Statement`.\n",
        "- Used to import functions, classes, variables, or entire modules directly into your namespace.\n",
        "- It can be used alone (e.g., import numpy) or in combination with from to pinpoint specific elements (e.g., from numpy import array).\n",
        "\n",
        "#### Examples\n",
        "We are importing the plot function directly from the `pyplot` module, which is part of the `matplotlib` library. The `.notation` means: `matplotlib` is the package, `pyplot` is a module, and `plot` is a function in this module."
      ]
    },
    {
      "cell_type": "code",
      "execution_count": null,
      "metadata": {
        "id": "vcfZvTkCg_d7"
      },
      "outputs": [],
      "source": [
        "# importing from pyplot module the plot function\n",
        "from matplotlib.pyplot import plot"
      ]
    },
    {
      "cell_type": "markdown",
      "metadata": {
        "id": "FZf8oDGEg_d7"
      },
      "source": [
        "We are importing multiple items (functions in this case). We're importing the functions `mean_squared_error` and `r2_score` from the `metrics` module within the `sklearn` (Scikit-learn) package. Scikit-learn is a library for machine learning."
      ]
    },
    {
      "cell_type": "code",
      "execution_count": null,
      "metadata": {
        "id": "jNH-Jjewg_d8"
      },
      "outputs": [],
      "source": [
        "from sklearn.metrics import mean_squared_error, r2_score"
      ]
    }
  ],
  "metadata": {
    "colab": {
      "provenance": []
    },
    "kernelspec": {
      "display_name": "Python 3",
      "name": "python3"
    },
    "language_info": {
      "codemirror_mode": {
        "name": "ipython",
        "version": 3
      },
      "file_extension": ".py",
      "mimetype": "text/x-python",
      "name": "python",
      "nbconvert_exporter": "python",
      "pygments_lexer": "ipython3",
      "version": "3.9.19"
    }
  },
  "nbformat": 4,
  "nbformat_minor": 0
}